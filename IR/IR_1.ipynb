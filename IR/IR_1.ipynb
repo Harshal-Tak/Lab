{
  "cells": [
    {
      "cell_type": "markdown",
      "id": "6e69540f-aeba-4cbb-a515-c97867615063",
      "metadata": {
        "id": "6e69540f-aeba-4cbb-a515-c97867615063"
      },
      "source": [
        "STOP WORDS Removal"
      ]
    },
    {
      "cell_type": "code",
      "execution_count": null,
      "id": "7aca5049-9b37-4fb6-98e4-24d41c2be077",
      "metadata": {
        "id": "7aca5049-9b37-4fb6-98e4-24d41c2be077",
        "outputId": "7269bf8f-bdd3-46b0-b0b1-c5540b25704b"
      },
      "outputs": [
        {
          "name": "stdout",
          "output_type": "stream",
          "text": [
            "['This', 'is', 'a', 'sample', 'sentence', ',', 'showing', 'off', 'the', 'stop', 'words', 'filtration', '.']\n",
            "['This', 'sample', 'sentence', ',', 'showing', 'stop', 'words', 'filtration', '.']\n"
          ]
        }
      ],
      "source": [
        "from nltk.corpus import stopwords\n",
        "from nltk.tokenize import word_tokenize\n",
        "\n",
        "example_sent = \"\"\"This is a sample sentence,\n",
        "                showing off the stop words filtration.\"\"\"\n",
        "\n",
        "stop_words = set(stopwords.words('english'))\n",
        "\n",
        "word_tokens = word_tokenize(example_sent)\n",
        "# converts the words in word_tokens to lower case and then checks whether\n",
        "#they are present in stop_words or not\n",
        "filtered_sentence = [w for w in word_tokens if not w.lower() in stop_words]\n",
        "#with no lower case conversion\n",
        "filtered_sentence = []\n",
        "\n",
        "for w in word_tokens:\n",
        "    if w not in stop_words:\n",
        "        filtered_sentence.append(w)\n",
        "\n",
        "print(word_tokens)\n",
        "print(filtered_sentence)"
      ]
    },
    {
      "cell_type": "markdown",
      "id": "47f1f772-9bd6-451b-802e-b1902c08d177",
      "metadata": {
        "id": "47f1f772-9bd6-451b-802e-b1902c08d177"
      },
      "source": [
        "STEMMING"
      ]
    },
    {
      "cell_type": "code",
      "execution_count": null,
      "id": "bd13ed7a-380f-445c-84fc-d78c8494a455",
      "metadata": {
        "id": "bd13ed7a-380f-445c-84fc-d78c8494a455",
        "outputId": "a189836a-eab6-48e0-e9fb-0c29cd5c6b1a"
      },
      "outputs": [
        {
          "name": "stdout",
          "output_type": "stream",
          "text": [
            "['the quick brown fox jump over the lazi dog', 'python is a high-level program languag', 'data scienc is an interdisciplinari field']\n"
          ]
        }
      ],
      "source": [
        "import nltk\n",
        "from nltk.stem import PorterStemmer\n",
        "from nltk.tokenize import word_tokenize\n",
        "\n",
        "# Sample dataset\n",
        "dataset = [\"The quick brown fox jumps over the lazy dog\",\n",
        "           \"Python is a high-level programming language\",\n",
        "           \"Data science is an interdisciplinary field\"]\n",
        "\n",
        "# Initialize the stemmer\n",
        "stemmer = PorterStemmer()\n",
        "\n",
        "# Perform stemming on the dataset\n",
        "stemmed_dataset = []\n",
        "for sentence in dataset:\n",
        "    words = word_tokenize(sentence)\n",
        "    stemmed_words = [stemmer.stem(word) for word in words]\n",
        "    stemmed_sentence = \" \".join(stemmed_words)\n",
        "    stemmed_dataset.append(stemmed_sentence)\n",
        "\n",
        "# Print the stemmed dataset\n",
        "print(stemmed_dataset)"
      ]
    },
    {
      "cell_type": "code",
      "execution_count": null,
      "id": "538f07e4-953e-4a66-b096-fc6358ff0513",
      "metadata": {
        "id": "538f07e4-953e-4a66-b096-fc6358ff0513"
      },
      "outputs": [],
      "source": []
    }
  ],
  "metadata": {
    "kernelspec": {
      "display_name": "Python 3 (ipykernel)",
      "language": "python",
      "name": "python3"
    },
    "language_info": {
      "codemirror_mode": {
        "name": "ipython",
        "version": 3
      },
      "file_extension": ".py",
      "mimetype": "text/x-python",
      "name": "python",
      "nbconvert_exporter": "python",
      "pygments_lexer": "ipython3",
      "version": "3.9.16"
    },
    "colab": {
      "provenance": []
    }
  },
  "nbformat": 4,
  "nbformat_minor": 5
}