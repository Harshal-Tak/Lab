{
 "cells": [
  {
   "cell_type": "markdown",
   "id": "b08b8cb8-b524-4c4c-b903-bd71a03dda98",
   "metadata": {},
   "source": [
    "### **Assignment: Machine Learning for Genomic Data** \n",
    "\n",
    "Task: Apply machine learning algorithms, such as random forests or support vector machines, to classify genomic data based on specific features or markers. \n",
    "\n",
    "Deliverable: A comprehensive analysis report presenting the classification results, model performance evaluation, and insights into the predictive features. "
   ]
  },
  {
   "cell_type": "markdown",
   "id": "401c3604-eb2b-4a7e-8105-ca74b4b6be2d",
   "metadata": {},
   "source": [
    "### **Importing Libraries**"
   ]
  },
  {
   "cell_type": "code",
   "execution_count": 1,
   "id": "8e91333d",
   "metadata": {
    "id": "8e91333d"
   },
   "outputs": [],
   "source": [
    "import sys\n",
    "import numpy as np\n",
    "import pandas as pd\n",
    "from sklearn.feature_extraction.text import CountVectorizer\n",
    "from sklearn.model_selection import train_test_split\n",
    "from sklearn.metrics import classification_report, confusion_matrix, accuracy_score\n",
    "from sklearn.ensemble import RandomForestClassifier\n",
    "from sklearn.svm import SVC \n",
    "from sklearn.preprocessing import StandardScaler\n",
    "import matplotlib.pyplot as plt "
   ]
  },
  {
   "cell_type": "markdown",
   "id": "cab97ba5-c410-40d1-856d-efcb08a95d53",
   "metadata": {},
   "source": [
    "### **Loading Dataset**"
   ]
  },
  {
   "cell_type": "code",
   "execution_count": 2,
   "id": "fbf67235",
   "metadata": {
    "id": "fbf67235",
    "outputId": "c6c971e5-efac-4ed7-8303-bfb6874516f2"
   },
   "outputs": [
    {
     "data": {
      "text/html": [
       "<div>\n",
       "<style scoped>\n",
       "    .dataframe tbody tr th:only-of-type {\n",
       "        vertical-align: middle;\n",
       "    }\n",
       "\n",
       "    .dataframe tbody tr th {\n",
       "        vertical-align: top;\n",
       "    }\n",
       "\n",
       "    .dataframe thead th {\n",
       "        text-align: right;\n",
       "    }\n",
       "</style>\n",
       "<table border=\"1\" class=\"dataframe\">\n",
       "  <thead>\n",
       "    <tr style=\"text-align: right;\">\n",
       "      <th></th>\n",
       "      <th>sequence</th>\n",
       "      <th>class</th>\n",
       "    </tr>\n",
       "  </thead>\n",
       "  <tbody>\n",
       "    <tr>\n",
       "      <th>0</th>\n",
       "      <td>ATGCCCCAACTAAATACTACCGTATGGCCCACCATAATTACCCCCA...</td>\n",
       "      <td>4</td>\n",
       "    </tr>\n",
       "    <tr>\n",
       "      <th>1</th>\n",
       "      <td>ATGAACGAAAATCTGTTCGCTTCATTCATTGCCCCCACAATCCTAG...</td>\n",
       "      <td>4</td>\n",
       "    </tr>\n",
       "    <tr>\n",
       "      <th>2</th>\n",
       "      <td>ATGTGTGGCATTTGGGCGCTGTTTGGCAGTGATGATTGCCTTTCTG...</td>\n",
       "      <td>3</td>\n",
       "    </tr>\n",
       "    <tr>\n",
       "      <th>3</th>\n",
       "      <td>ATGTGTGGCATTTGGGCGCTGTTTGGCAGTGATGATTGCCTTTCTG...</td>\n",
       "      <td>3</td>\n",
       "    </tr>\n",
       "    <tr>\n",
       "      <th>4</th>\n",
       "      <td>ATGCAACAGCATTTTGAATTTGAATACCAGACCAAAGTGGATGGTG...</td>\n",
       "      <td>3</td>\n",
       "    </tr>\n",
       "    <tr>\n",
       "      <th>...</th>\n",
       "      <td>...</td>\n",
       "      <td>...</td>\n",
       "    </tr>\n",
       "    <tr>\n",
       "      <th>4375</th>\n",
       "      <td>ATGGAAGATTTGGAGGAAACATTATTTGAAGAATTTGAAAACTATT...</td>\n",
       "      <td>0</td>\n",
       "    </tr>\n",
       "    <tr>\n",
       "      <th>4376</th>\n",
       "      <td>ATGCAGTCCTTTCGGGAGCAAAGCAGTTACCACGGAAACCAGCAAA...</td>\n",
       "      <td>6</td>\n",
       "    </tr>\n",
       "    <tr>\n",
       "      <th>4377</th>\n",
       "      <td>ATGCAGTCCTTTCGGGAGCAAAGCAGTTACCACGGAAACCAGCAAA...</td>\n",
       "      <td>6</td>\n",
       "    </tr>\n",
       "    <tr>\n",
       "      <th>4378</th>\n",
       "      <td>ATGGGGCACCTGGTTTGCTGTCTGTGTGGCAAGTGGGCCAGTTACC...</td>\n",
       "      <td>6</td>\n",
       "    </tr>\n",
       "    <tr>\n",
       "      <th>4379</th>\n",
       "      <td>ATGCAGTCCTTTCGGGAGCAAAGCAGTTACCACGGAAACCAGCAAA...</td>\n",
       "      <td>6</td>\n",
       "    </tr>\n",
       "  </tbody>\n",
       "</table>\n",
       "<p>4380 rows × 2 columns</p>\n",
       "</div>"
      ],
      "text/plain": [
       "                                               sequence  class\n",
       "0     ATGCCCCAACTAAATACTACCGTATGGCCCACCATAATTACCCCCA...      4\n",
       "1     ATGAACGAAAATCTGTTCGCTTCATTCATTGCCCCCACAATCCTAG...      4\n",
       "2     ATGTGTGGCATTTGGGCGCTGTTTGGCAGTGATGATTGCCTTTCTG...      3\n",
       "3     ATGTGTGGCATTTGGGCGCTGTTTGGCAGTGATGATTGCCTTTCTG...      3\n",
       "4     ATGCAACAGCATTTTGAATTTGAATACCAGACCAAAGTGGATGGTG...      3\n",
       "...                                                 ...    ...\n",
       "4375  ATGGAAGATTTGGAGGAAACATTATTTGAAGAATTTGAAAACTATT...      0\n",
       "4376  ATGCAGTCCTTTCGGGAGCAAAGCAGTTACCACGGAAACCAGCAAA...      6\n",
       "4377  ATGCAGTCCTTTCGGGAGCAAAGCAGTTACCACGGAAACCAGCAAA...      6\n",
       "4378  ATGGGGCACCTGGTTTGCTGTCTGTGTGGCAAGTGGGCCAGTTACC...      6\n",
       "4379  ATGCAGTCCTTTCGGGAGCAAAGCAGTTACCACGGAAACCAGCAAA...      6\n",
       "\n",
       "[4380 rows x 2 columns]"
      ]
     },
     "execution_count": 2,
     "metadata": {},
     "output_type": "execute_result"
    }
   ],
   "source": [
    "df_dna = pd.read_csv(\"human.csv\")\n",
    "df_dna"
   ]
  },
  {
   "cell_type": "markdown",
   "id": "3cd7a79a-88ae-4f76-8b86-4a627ced6f91",
   "metadata": {},
   "source": [
    "### **Setting Target Feature**"
   ]
  },
  {
   "cell_type": "code",
   "execution_count": 3,
   "id": "fd912e39",
   "metadata": {
    "id": "fd912e39"
   },
   "outputs": [],
   "source": [
    "y = df_dna[\"class\"]"
   ]
  },
  {
   "cell_type": "markdown",
   "id": "abcac7f6-7581-4e71-8b15-4c8f0edf1919",
   "metadata": {},
   "source": [
    "### **Grouping the seq**"
   ]
  },
  {
   "cell_type": "code",
   "execution_count": 4,
   "id": "10c0e8ca",
   "metadata": {
    "id": "10c0e8ca",
    "outputId": "e57579bf-4f5d-4348-e441-a3ad72d97955"
   },
   "outputs": [
    {
     "data": {
      "text/html": [
       "<div>\n",
       "<style scoped>\n",
       "    .dataframe tbody tr th:only-of-type {\n",
       "        vertical-align: middle;\n",
       "    }\n",
       "\n",
       "    .dataframe tbody tr th {\n",
       "        vertical-align: top;\n",
       "    }\n",
       "\n",
       "    .dataframe thead th {\n",
       "        text-align: right;\n",
       "    }\n",
       "</style>\n",
       "<table border=\"1\" class=\"dataframe\">\n",
       "  <thead>\n",
       "    <tr style=\"text-align: right;\">\n",
       "      <th></th>\n",
       "      <th>sequence</th>\n",
       "      <th>class</th>\n",
       "      <th>words</th>\n",
       "    </tr>\n",
       "  </thead>\n",
       "  <tbody>\n",
       "    <tr>\n",
       "      <th>0</th>\n",
       "      <td>ATGCCCCAACTAAATACTACCGTATGGCCCACCATAATTACCCCCA...</td>\n",
       "      <td>4</td>\n",
       "      <td>[ATGC, TGCC, GCCC, CCCC, CCCA, CCAA, CAAC, AAC...</td>\n",
       "    </tr>\n",
       "    <tr>\n",
       "      <th>1</th>\n",
       "      <td>ATGAACGAAAATCTGTTCGCTTCATTCATTGCCCCCACAATCCTAG...</td>\n",
       "      <td>4</td>\n",
       "      <td>[ATGA, TGAA, GAAC, AACG, ACGA, CGAA, GAAA, AAA...</td>\n",
       "    </tr>\n",
       "    <tr>\n",
       "      <th>2</th>\n",
       "      <td>ATGTGTGGCATTTGGGCGCTGTTTGGCAGTGATGATTGCCTTTCTG...</td>\n",
       "      <td>3</td>\n",
       "      <td>[ATGT, TGTG, GTGT, TGTG, GTGG, TGGC, GGCA, GCA...</td>\n",
       "    </tr>\n",
       "    <tr>\n",
       "      <th>3</th>\n",
       "      <td>ATGTGTGGCATTTGGGCGCTGTTTGGCAGTGATGATTGCCTTTCTG...</td>\n",
       "      <td>3</td>\n",
       "      <td>[ATGT, TGTG, GTGT, TGTG, GTGG, TGGC, GGCA, GCA...</td>\n",
       "    </tr>\n",
       "    <tr>\n",
       "      <th>4</th>\n",
       "      <td>ATGCAACAGCATTTTGAATTTGAATACCAGACCAAAGTGGATGGTG...</td>\n",
       "      <td>3</td>\n",
       "      <td>[ATGC, TGCA, GCAA, CAAC, AACA, ACAG, CAGC, AGC...</td>\n",
       "    </tr>\n",
       "    <tr>\n",
       "      <th>...</th>\n",
       "      <td>...</td>\n",
       "      <td>...</td>\n",
       "      <td>...</td>\n",
       "    </tr>\n",
       "    <tr>\n",
       "      <th>4375</th>\n",
       "      <td>ATGGAAGATTTGGAGGAAACATTATTTGAAGAATTTGAAAACTATT...</td>\n",
       "      <td>0</td>\n",
       "      <td>[ATGG, TGGA, GGAA, GAAG, AAGA, AGAT, GATT, ATT...</td>\n",
       "    </tr>\n",
       "    <tr>\n",
       "      <th>4376</th>\n",
       "      <td>ATGCAGTCCTTTCGGGAGCAAAGCAGTTACCACGGAAACCAGCAAA...</td>\n",
       "      <td>6</td>\n",
       "      <td>[ATGC, TGCA, GCAG, CAGT, AGTC, GTCC, TCCT, CCT...</td>\n",
       "    </tr>\n",
       "    <tr>\n",
       "      <th>4377</th>\n",
       "      <td>ATGCAGTCCTTTCGGGAGCAAAGCAGTTACCACGGAAACCAGCAAA...</td>\n",
       "      <td>6</td>\n",
       "      <td>[ATGC, TGCA, GCAG, CAGT, AGTC, GTCC, TCCT, CCT...</td>\n",
       "    </tr>\n",
       "    <tr>\n",
       "      <th>4378</th>\n",
       "      <td>ATGGGGCACCTGGTTTGCTGTCTGTGTGGCAAGTGGGCCAGTTACC...</td>\n",
       "      <td>6</td>\n",
       "      <td>[ATGG, TGGG, GGGG, GGGC, GGCA, GCAC, CACC, ACC...</td>\n",
       "    </tr>\n",
       "    <tr>\n",
       "      <th>4379</th>\n",
       "      <td>ATGCAGTCCTTTCGGGAGCAAAGCAGTTACCACGGAAACCAGCAAA...</td>\n",
       "      <td>6</td>\n",
       "      <td>[ATGC, TGCA, GCAG, CAGT, AGTC, GTCC, TCCT, CCT...</td>\n",
       "    </tr>\n",
       "  </tbody>\n",
       "</table>\n",
       "<p>4380 rows × 3 columns</p>\n",
       "</div>"
      ],
      "text/plain": [
       "                                               sequence  class  \\\n",
       "0     ATGCCCCAACTAAATACTACCGTATGGCCCACCATAATTACCCCCA...      4   \n",
       "1     ATGAACGAAAATCTGTTCGCTTCATTCATTGCCCCCACAATCCTAG...      4   \n",
       "2     ATGTGTGGCATTTGGGCGCTGTTTGGCAGTGATGATTGCCTTTCTG...      3   \n",
       "3     ATGTGTGGCATTTGGGCGCTGTTTGGCAGTGATGATTGCCTTTCTG...      3   \n",
       "4     ATGCAACAGCATTTTGAATTTGAATACCAGACCAAAGTGGATGGTG...      3   \n",
       "...                                                 ...    ...   \n",
       "4375  ATGGAAGATTTGGAGGAAACATTATTTGAAGAATTTGAAAACTATT...      0   \n",
       "4376  ATGCAGTCCTTTCGGGAGCAAAGCAGTTACCACGGAAACCAGCAAA...      6   \n",
       "4377  ATGCAGTCCTTTCGGGAGCAAAGCAGTTACCACGGAAACCAGCAAA...      6   \n",
       "4378  ATGGGGCACCTGGTTTGCTGTCTGTGTGGCAAGTGGGCCAGTTACC...      6   \n",
       "4379  ATGCAGTCCTTTCGGGAGCAAAGCAGTTACCACGGAAACCAGCAAA...      6   \n",
       "\n",
       "                                                  words  \n",
       "0     [ATGC, TGCC, GCCC, CCCC, CCCA, CCAA, CAAC, AAC...  \n",
       "1     [ATGA, TGAA, GAAC, AACG, ACGA, CGAA, GAAA, AAA...  \n",
       "2     [ATGT, TGTG, GTGT, TGTG, GTGG, TGGC, GGCA, GCA...  \n",
       "3     [ATGT, TGTG, GTGT, TGTG, GTGG, TGGC, GGCA, GCA...  \n",
       "4     [ATGC, TGCA, GCAA, CAAC, AACA, ACAG, CAGC, AGC...  \n",
       "...                                                 ...  \n",
       "4375  [ATGG, TGGA, GGAA, GAAG, AAGA, AGAT, GATT, ATT...  \n",
       "4376  [ATGC, TGCA, GCAG, CAGT, AGTC, GTCC, TCCT, CCT...  \n",
       "4377  [ATGC, TGCA, GCAG, CAGT, AGTC, GTCC, TCCT, CCT...  \n",
       "4378  [ATGG, TGGG, GGGG, GGGC, GGCA, GCAC, CACC, ACC...  \n",
       "4379  [ATGC, TGCA, GCAG, CAGT, AGTC, GTCC, TCCT, CCT...  \n",
       "\n",
       "[4380 rows x 3 columns]"
      ]
     },
     "execution_count": 4,
     "metadata": {},
     "output_type": "execute_result"
    }
   ],
   "source": [
    "kmer_length = 4\n",
    "\n",
    "df_dna[\"words\"] = df_dna[\"sequence\"].apply(lambda seq: [seq[i:i+kmer_length] for i in range(0, len(seq) - kmer_length + 1)])\n",
    "df_dna"
   ]
  },
  {
   "cell_type": "markdown",
   "id": "c03546f1-56ab-4a2b-90a6-3febf38cd054",
   "metadata": {},
   "source": [
    "### **Vectorizing the k - mers**"
   ]
  },
  {
   "cell_type": "code",
   "execution_count": 5,
   "id": "9a6ee493",
   "metadata": {
    "id": "9a6ee493",
    "outputId": "83b30f52-927e-4542-9b7a-26945b9bd612"
   },
   "outputs": [
    {
     "data": {
      "text/plain": [
       "<Compressed Sparse Row sparse matrix of dtype 'int64'\n",
       "\twith 885261 stored elements and shape (4380, 336)>"
      ]
     },
     "execution_count": 5,
     "metadata": {},
     "output_type": "execute_result"
    }
   ],
   "source": [
    "# Vectorize the k-mers\n",
    "vectorizer = CountVectorizer()\n",
    "X = vectorizer.fit_transform(df_dna[\"words\"].apply(lambda x: \" \".join(x)))\n",
    "X"
   ]
  },
  {
   "cell_type": "markdown",
   "id": "26a0051d-21f9-4c9e-a892-ece5fce4a3c7",
   "metadata": {},
   "source": [
    "### **Splitting the data into train, validation, and test sets**"
   ]
  },
  {
   "cell_type": "code",
   "execution_count": 6,
   "id": "300161ef",
   "metadata": {
    "id": "300161ef"
   },
   "outputs": [
    {
     "name": "stdout",
     "output_type": "stream",
     "text": [
      "<Compressed Sparse Row sparse matrix of dtype 'int64'\n",
      "\twith 178069 stored elements and shape (876, 336)>\n",
      "  Coords\tValues\n",
      "  (0, 57)\t2\n",
      "  (0, 309)\t9\n",
      "  (0, 149)\t8\n",
      "  (0, 85)\t7\n",
      "  (0, 84)\t5\n",
      "  (0, 80)\t6\n",
      "  (0, 65)\t3\n",
      "  (0, 7)\t1\n",
      "  (0, 28)\t2\n",
      "  (0, 112)\t1\n",
      "  (0, 272)\t1\n",
      "  (0, 3)\t1\n",
      "  (0, 279)\t2\n",
      "  (0, 113)\t2\n",
      "  (0, 179)\t2\n",
      "  (0, 286)\t4\n",
      "  (0, 58)\t8\n",
      "  (0, 313)\t3\n",
      "  (0, 165)\t4\n",
      "  (0, 81)\t2\n",
      "  (0, 69)\t1\n",
      "  (0, 20)\t4\n",
      "  (0, 83)\t7\n",
      "  (0, 15)\t1\n",
      "  (0, 60)\t1\n",
      "  :\t:\n",
      "  (875, 175)\t2\n",
      "  (875, 178)\t1\n",
      "  (875, 133)\t1\n",
      "  (875, 331)\t1\n",
      "  (875, 315)\t2\n",
      "  (875, 174)\t4\n",
      "  (875, 33)\t1\n",
      "  (875, 11)\t1\n",
      "  (875, 162)\t2\n",
      "  (875, 316)\t2\n",
      "  (875, 171)\t3\n",
      "  (875, 45)\t1\n",
      "  (875, 39)\t2\n",
      "  (875, 126)\t4\n",
      "  (875, 152)\t2\n",
      "  (875, 110)\t2\n",
      "  (875, 168)\t2\n",
      "  (875, 42)\t2\n",
      "  (875, 170)\t2\n",
      "  (875, 99)\t1\n",
      "  (875, 299)\t1\n",
      "  (875, 322)\t1\n",
      "  (875, 105)\t3\n",
      "  (875, 310)\t1\n",
      "  (875, 26)\t1\n"
     ]
    }
   ],
   "source": [
    "X_train, X_temp, y_train, y_temp = train_test_split(X, y, test_size=0.2, random_state=42)\n",
    "print(X_temp)"
   ]
  },
  {
   "cell_type": "code",
   "execution_count": 7,
   "id": "c626b7ab",
   "metadata": {},
   "outputs": [],
   "source": [
    "X_valid, X_test, y_valid, y_test = train_test_split(X_temp, y_temp, test_size=0.5, random_state=42)"
   ]
  },
  {
   "cell_type": "markdown",
   "id": "a2e9209f-0c44-471c-83ca-65c4901baeef",
   "metadata": {},
   "source": [
    "### **Training and Validating Random Forest Classifier**"
   ]
  },
  {
   "cell_type": "code",
   "execution_count": 8,
   "id": "7c49fc9d-e8a6-49d8-9344-f8e1d0825677",
   "metadata": {},
   "outputs": [],
   "source": [
    "# Initialize and train Random Forest Classifier\n",
    "rf_classifier = RandomForestClassifier(n_estimators=100, random_state=42)\n",
    "rf_classifier.fit(X_train, y_train)\n",
    "\n",
    "# Validate Random Forest\n",
    "y_predicted_valid_rf = rf_classifier.predict(X_valid)\n",
    "accuracy_valid_rf = accuracy_score(y_valid, y_predicted_valid_rf)"
   ]
  },
  {
   "cell_type": "markdown",
   "id": "25393804-2ea0-48eb-acaa-4ca3470dcea6",
   "metadata": {},
   "source": [
    "### **Training and Validating SVM**"
   ]
  },
  {
   "cell_type": "code",
   "execution_count": 9,
   "id": "2f21bdf6-848b-4820-b8c8-b8bde8a7d9ee",
   "metadata": {},
   "outputs": [],
   "source": [
    "# Initialize and train Support Vector Machine (SVM)\n",
    "svm_classifier = SVC()\n",
    "svm_classifier.fit(X_train, y_train)\n",
    "\n",
    "# Validate SVM\n",
    "y_predicted_valid_svm = svm_classifier.predict(X_valid)\n",
    "accuracy_valid_svm = accuracy_score(y_valid, y_predicted_valid_svm)"
   ]
  },
  {
   "cell_type": "markdown",
   "id": "639b8f80-d9ea-4c37-b266-7be260ffa6b4",
   "metadata": {},
   "source": [
    "### **Testing both Models**"
   ]
  },
  {
   "cell_type": "code",
   "execution_count": 10,
   "id": "4ce9d6c1-9ea4-4312-9580-3ccad1fb86a2",
   "metadata": {},
   "outputs": [],
   "source": [
    "# Testing both models on the test set\n",
    "y_predicted_test_rf = rf_classifier.predict(X_test)\n",
    "accuracy_test_rf = accuracy_score(y_test, y_predicted_test_rf)\n",
    "\n",
    "y_predicted_test_svm = svm_classifier.predict(X_test)\n",
    "accuracy_test_svm = accuracy_score(y_test, y_predicted_test_svm)"
   ]
  },
  {
   "cell_type": "markdown",
   "id": "cc7d0114-edfd-46d6-a9ed-8b335959be7e",
   "metadata": {},
   "source": [
    "### **Evaluating the Models**"
   ]
  },
  {
   "cell_type": "code",
   "execution_count": 11,
   "id": "f4a6e223-492b-4d3e-9896-71b0f667f3bb",
   "metadata": {},
   "outputs": [
    {
     "name": "stdout",
     "output_type": "stream",
     "text": [
      "Validation Accuracy - Random Forest: 0.8105022831050228\n",
      "Validation Accuracy - SVM: 0.6529680365296804\n",
      "Test Accuracy - Random Forest: 0.7990867579908676\n",
      "Test Accuracy - SVM: 0.6301369863013698\n"
     ]
    }
   ],
   "source": [
    "# Print model accuracy\n",
    "print(\"Validation Accuracy - Random Forest:\", accuracy_valid_rf)\n",
    "print(\"Validation Accuracy - SVM:\", accuracy_valid_svm)\n",
    "\n",
    "print(\"Test Accuracy - Random Forest:\", accuracy_test_rf)\n",
    "print(\"Test Accuracy - SVM:\", accuracy_test_svm)"
   ]
  },
  {
   "cell_type": "markdown",
   "id": "481e8c7a-85e8-4aec-bd48-4670e470f1d9",
   "metadata": {},
   "source": [
    "### **Comparing the Models Visually**"
   ]
  },
  {
   "cell_type": "code",
   "execution_count": 12,
   "id": "e0bd9aa2-82be-486c-8056-e9965a00de1b",
   "metadata": {},
   "outputs": [
    {
     "data": {
      "image/png": "[encoded data removed]",
      "text/plain": [
       "<Figure size 640x480 with 1 Axes>"
      ]
     },
     "metadata": {},
     "output_type": "display_data"
    }
   ],
   "source": [
    "# Create a bar graph to compare model accuracy\n",
    "models = ['Random Forest', 'SVM']\n",
    "validation_accuracies = [accuracy_valid_rf, accuracy_valid_svm]\n",
    "test_accuracies = [accuracy_test_rf, accuracy_test_svm]\n",
    "\n",
    "x = np.arange(len(models))\n",
    "width = 0.35\n",
    "\n",
    "fig, ax = plt.subplots()\n",
    "rects1 = ax.bar(x - width/2, validation_accuracies, width, label='Validation Accuracy')\n",
    "rects2 = ax.bar(x + width/2, test_accuracies, width, label='Test Accuracy')\n",
    "\n",
    "ax.set_ylabel('Accuracy')\n",
    "ax.set_title('Model Accuracy Comparison')\n",
    "ax.set_xticks(x)\n",
    "ax.set_xticklabels(models)\n",
    "ax.legend()\n",
    "\n",
    "plt.show()"
   ]
  },
  {
   "cell_type": "code",
   "execution_count": null,
   "id": "f065ec70",
   "metadata": {},
   "outputs": [],
   "source": []
  }
 ],
 "metadata": {
  "colab": {
   "provenance": []
  },
  "kernelspec": {
   "display_name": "DeepLearning",
   "language": "python",
   "name": "python3"
  },
  "language_info": {
   "codemirror_mode": {
    "name": "ipython",
    "version": 3
   },
   "file_extension": ".py",
   "mimetype": "text/x-python",
   "name": "python",
   "nbconvert_exporter": "python",
   "pygments_lexer": "ipython3",
   "version": "3.12.4"
  }
 },
 "nbformat": 4,
 "nbformat_minor": 5
}
