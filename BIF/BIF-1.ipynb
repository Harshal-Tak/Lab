{
 "cells": [
  {
   "cell_type": "code",
   "execution_count": 2,
   "metadata": {},
   "outputs": [],
   "source": [
    "import Bio\n",
    "from Bio.Seq import Seq\n",
    "from Bio.SeqUtils import gc_fraction"
   ]
  },
  {
   "cell_type": "code",
   "execution_count": 3,
   "metadata": {},
   "outputs": [],
   "source": [
    "#Providing DNA Sequences\n",
    "dna_sequence = \"AGTCAGTAGACTAGCTAGCTAGCTAGCTAGCTAGCTAGCTAGCTAGCTAGCTAGCTAGCTAGCTAGCTAGCTAGCTAGCTAGCTAGCTA\"\n",
    "\n",
    "#Creating object for Seq\n",
    "seq = Seq(dna_sequence)"
   ]
  },
  {
   "cell_type": "code",
   "execution_count": 4,
   "metadata": {},
   "outputs": [],
   "source": [
    "# Function to find motifs in the sequence\n",
    "def find_motifs(sequence, motif):\n",
    "    positions = [i for i in range(len(sequence) - len(motif) + 1) if sequence[i:i + len(motif)] == motif]\n",
    "    return positions\n",
    "\n",
    "# Function to identify coding regions \n",
    "def identify_coding_regions(sequence):\n",
    "    start_codon = \"ATG\"\n",
    "    stop_codons = [\"TAA\", \"TAG\", \"TGA\"]\n",
    "    coding_regions = []\n",
    "    i = 0\n",
    "\n",
    "    while i < len(sequence):\n",
    "        if sequence[i:i + 3] == start_codon:\n",
    "            start_index = i\n",
    "            i += 3\n",
    "            while i < len(sequence):\n",
    "                if sequence[i:i + 3] in stop_codons:\n",
    "                    stop_index = i + 3\n",
    "                    coding_regions.append((start_index, stop_index))\n",
    "                    break\n",
    "                i += 3\n",
    "        else:\n",
    "            i += 1\n",
    "\n",
    "    return coding_regions"
   ]
  },
  {
   "cell_type": "code",
   "execution_count": 5,
   "metadata": {},
   "outputs": [],
   "source": [
    "motif1 = \"AGCTAGCTA\"\n",
    "motif2 = \"CTAGCTAGC\"\n",
    "motif1_positions = find_motifs(seq, motif1)\n",
    "motif2_positions = find_motifs(seq, motif2)"
   ]
  },
  {
   "cell_type": "code",
   "execution_count": 6,
   "metadata": {},
   "outputs": [],
   "source": [
    "# Calculating GC content\n",
    "gc_content = gc_fraction(seq)\n",
    "\n",
    "# Identifying coding regions\n",
    "coding_regions = identify_coding_regions(seq)"
   ]
  },
  {
   "cell_type": "code",
   "execution_count": 7,
   "metadata": {},
   "outputs": [
    {
     "name": "stdout",
     "output_type": "stream",
     "text": [
      "Analysis report generated as 'DNA_SEQUENCE_ANALYSIS.txt'.\n"
     ]
    }
   ],
   "source": [
    "report = \"DNA Sequence Analysis Report\\n\\n\"\n",
    "report += f\"Provided DNA Sequence:\\n{seq}\\n\\n\"\n",
    "report += \"Analysis 1: Finding Motifs\\n\"\n",
    "report += f\"Motif 1 ({motif1}) found at positions: {motif1_positions}\\n\"\n",
    "report += f\"Motif 2 ({motif2}) found at positions: {motif2_positions}\\n\\n\"\n",
    "report += \"Analysis 2: Calculating GC Content\\n\"\n",
    "report += f\"GC Content: {gc_content:.2%}\\n\\n\"\n",
    "report += \"Analysis 3: Identifying Coding Regions\\n\"\n",
    "if len(coding_regions) > 0:\n",
    "    report += \"Coding regions found:\\n\"\n",
    "    for start, stop in coding_regions:\n",
    "        report += f\"Start: {start} Stop: {stop}\\n\"\n",
    "else:\n",
    "    report += \"No coding regions found in the sequence.\"\n",
    "\n",
    "\n",
    "\n",
    "\n",
    "with open(\"DNA_SEQUENCE_ANALYSIS.txt\", \"w\") as report_file:\n",
    "    report_file.write(report)\n",
    "\n",
    "\n",
    "\n",
    "print(\"Analysis report generated as 'DNA_SEQUENCE_ANALYSIS.txt'.\")"
   ]
  },
  {
   "cell_type": "code",
   "execution_count": null,
   "metadata": {},
   "outputs": [],
   "source": []
  }
 ],
 "metadata": {
  "kernelspec": {
   "display_name": "DeepLearning",
   "language": "python",
   "name": "python3"
  },
  "language_info": {
   "codemirror_mode": {
    "name": "ipython",
    "version": 3
   },
   "file_extension": ".py",
   "mimetype": "text/x-python",
   "name": "python",
   "nbconvert_exporter": "python",
   "pygments_lexer": "ipython3",
   "version": "3.12.4"
  }
 },
 "nbformat": 4,
 "nbformat_minor": 2
}
